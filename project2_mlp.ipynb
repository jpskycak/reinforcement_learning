{
 "cells": [
  {
   "cell_type": "code",
   "execution_count": 119,
   "metadata": {
    "collapsed": true
   },
   "outputs": [],
   "source": [
    "import numpy as np\n",
    "\n",
    "class Operation(object):\n",
    "    def __init__(self, input_nodes=[]):\n",
    "        self.type = 'operation'\n",
    "        self.input_nodes = input_nodes\n",
    "        self.output_nodes = [input_node.output_nodes for input_node in input_nodes]\n",
    "        _default_graph.operations.append(self)\n",
    "    \n",
    "class add(Operation):\n",
    "    def __init__(self, a, b):\n",
    "        super(add, self).__init__([a,b])\n",
    "    def compute(self, a, b):\n",
    "        return a+b\n",
    "    \n",
    "class dot(Operation):\n",
    "    def __init__(self, a, b):\n",
    "        super(dot, self).__init__([a,b])\n",
    "    def compute(self, a, b):\n",
    "        return a.dot(b)\n",
    "    \n",
    "class multiply(Operation):\n",
    "    def __init__(self, a, b):\n",
    "        super(multiply, self).__init__([a,b])\n",
    "    def compute(self, a, b):\n",
    "        return a*b\n",
    "    \n",
    "class sigmoid(Operation):\n",
    "    def __init__(self, x):\n",
    "        super(sigmoid, self).__init__([x])\n",
    "    def compute(self, x):\n",
    "        return 1./(1.+np.exp(-x))\n",
    "    \n",
    "class softmax(Operation):\n",
    "    def __init__(self, x):\n",
    "        super(softmax, self).__init__([x])\n",
    "    def compute(self, x):\n",
    "        return np.exp(x)/np.sum(np.exp(x),axis=1)[:,None]\n",
    "    \n",
    "class log(Operation):\n",
    "    def __init__(self, x):\n",
    "        super(log, self).__init__([x])\n",
    "    def compute(self, x):\n",
    "        return np.log(x)\n",
    "    \n",
    "class negative(Operation):\n",
    "    def __init__(self, x):\n",
    "        super(negative, self).__init__([x])\n",
    "    def compute(self, x):\n",
    "        return -x\n",
    "    \n",
    "class reduce_sum(Operation):\n",
    "    def __init__(self, X, axis=None):\n",
    "        super(reduce_sum, self).__init__([X])\n",
    "        self.axis = axis\n",
    "    def compute(self, X):\n",
    "        return np.sum(X, self.axis)\n",
    "\n",
    "class Variable():\n",
    "    def __init__(self, value=None):\n",
    "        self.type = 'variable'\n",
    "        self.value = value\n",
    "        self.output_nodes = []\n",
    "        _default_graph.variables.append(self)\n",
    "    \n",
    "class Placeholder():\n",
    "    def __init__(self):\n",
    "        self.type = 'placeholder'\n",
    "        self.output_nodes = []\n",
    "        _default_graph.placeholders.append(self)\n",
    "        \n",
    "class Graph():\n",
    "    def __init__(self):\n",
    "        self.operations = []\n",
    "        self.variables = []\n",
    "        self.placeholders = []\n",
    "    def as_default(self):\n",
    "        global _default_graph\n",
    "        _default_graph = self       \n",
    "        \n",
    "def computation_order(operation):\n",
    "    order = []\n",
    "    def traverse_postorder(node):\n",
    "        if isinstance(node, Operation):\n",
    "            for input_node in node.input_nodes:\n",
    "                traverse_postorder(input_node)\n",
    "        order.append(node)\n",
    "    traverse_postorder(operation)\n",
    "    return order\n",
    "        \n",
    "class Session():\n",
    "    def run(self, operation, placeholder_values={}):\n",
    "        order = computation_order(operation)\n",
    "        for node in order:\n",
    "            if node.type == 'variable':\n",
    "                node.output = node.value\n",
    "            elif node.type == 'placeholder':\n",
    "                node.output = placeholder_values[node]\n",
    "            elif node.type == 'operation':\n",
    "                node.inputs = [input_node.output for input_node in node.input_nodes]\n",
    "                node.output = node.compute(*node.inputs)\n",
    "            \n",
    "            if type(node.output) == list:\n",
    "                node.output = np.array(node.output)\n",
    "        return operation.output"
   ]
  },
  {
   "cell_type": "code",
   "execution_count": 120,
   "metadata": {
    "collapsed": false
   },
   "outputs": [
    {
     "data": {
      "image/png": "[encoded data removed]",
      "text/plain": [
       "<matplotlib.figure.Figure at 0x10e8db650>"
      ]
     },
     "metadata": {},
     "output_type": "display_data"
    }
   ],
   "source": [
    "import matplotlib.pyplot as plt\n",
    "# Create red points centered at (-2, -2)\n",
    "red_points = np.random.randn(50, 2) - 2*np.ones((50, 2))\n",
    "\n",
    "# Create blue points centered at (2, 2)\n",
    "blue_points = np.random.randn(50, 2) + 2*np.ones((50, 2))\n",
    "\n",
    "# Plot the red and blue points\n",
    "plt.scatter(red_points[:,0], red_points[:,1], color='red')\n",
    "plt.scatter(blue_points[:,0], blue_points[:,1], color='blue')\n",
    "\n",
    "# Plot a line y = -x\n",
    "x_axis = np.linspace(-4, 4, 100)\n",
    "y_axis = -x_axis\n",
    "plt.plot(x_axis, y_axis)\n",
    "plt.show()"
   ]
  },
  {
   "cell_type": "code",
   "execution_count": 121,
   "metadata": {
    "collapsed": false,
    "scrolled": true
   },
   "outputs": [
    {
     "name": "stdout",
     "output_type": "stream",
     "text": [
      "0.598890305352\n"
     ]
    }
   ],
   "source": [
    "# Create a new graph\n",
    "Graph().as_default()\n",
    "\n",
    "X = Placeholder()\n",
    "c = Placeholder()\n",
    "\n",
    "W = Variable([\n",
    "    [1, -1],\n",
    "    [1, -1]\n",
    "])\n",
    "b = Variable([0, 0])\n",
    "p = softmax(add(dot(X, W), b))\n",
    "\n",
    "# Cross-entropy loss\n",
    "J = negative(reduce_sum(reduce_sum(multiply(c, log(p)), axis=1)))\n",
    "\n",
    "session = Session()\n",
    "print(session.run(J, {\n",
    "    X: np.concatenate((blue_points, red_points)),\n",
    "    c:\n",
    "        [[1, 0]] * len(blue_points)\n",
    "        + [[0, 1]] * len(red_points)\n",
    "\n",
    "}))\n",
    "#next: http://www.deepideas.net/deep-learning-from-scratch-iv-gradient-descent-and-backpropagation/"
   ]
  },
  {
   "cell_type": "code",
   "execution_count": 125,
   "metadata": {
    "collapsed": false
   },
   "outputs": [
    {
     "data": {
      "text/plain": [
       "[[1, 0], [1, 0]]"
      ]
     },
     "execution_count": 125,
     "metadata": {},
     "output_type": "execute_result"
    }
   ],
   "source": [
    "#\n",
    "[[1, 0]]*2"
   ]
  },
  {
   "cell_type": "code",
   "execution_count": 123,
   "metadata": {
    "collapsed": false
   },
   "outputs": [
    {
     "data": {
      "text/plain": [
       "[[1, 0],\n",
       " [1, 0],\n",
       " [1, 0],\n",
       " [1, 0],\n",
       " [1, 0],\n",
       " [1, 0],\n",
       " [1, 0],\n",
       " [1, 0],\n",
       " [1, 0],\n",
       " [1, 0],\n",
       " [1, 0],\n",
       " [1, 0],\n",
       " [1, 0],\n",
       " [1, 0],\n",
       " [1, 0],\n",
       " [1, 0],\n",
       " [1, 0],\n",
       " [1, 0],\n",
       " [1, 0],\n",
       " [1, 0],\n",
       " [1, 0],\n",
       " [1, 0],\n",
       " [1, 0],\n",
       " [1, 0],\n",
       " [1, 0],\n",
       " [1, 0],\n",
       " [1, 0],\n",
       " [1, 0],\n",
       " [1, 0],\n",
       " [1, 0],\n",
       " [1, 0],\n",
       " [1, 0],\n",
       " [1, 0],\n",
       " [1, 0],\n",
       " [1, 0],\n",
       " [1, 0],\n",
       " [1, 0],\n",
       " [1, 0],\n",
       " [1, 0],\n",
       " [1, 0],\n",
       " [1, 0],\n",
       " [1, 0],\n",
       " [1, 0],\n",
       " [1, 0],\n",
       " [1, 0],\n",
       " [1, 0],\n",
       " [1, 0],\n",
       " [1, 0],\n",
       " [1, 0],\n",
       " [1, 0],\n",
       " [0, 1],\n",
       " [0, 1],\n",
       " [0, 1],\n",
       " [0, 1],\n",
       " [0, 1],\n",
       " [0, 1],\n",
       " [0, 1],\n",
       " [0, 1],\n",
       " [0, 1],\n",
       " [0, 1],\n",
       " [0, 1],\n",
       " [0, 1],\n",
       " [0, 1],\n",
       " [0, 1],\n",
       " [0, 1],\n",
       " [0, 1],\n",
       " [0, 1],\n",
       " [0, 1],\n",
       " [0, 1],\n",
       " [0, 1],\n",
       " [0, 1],\n",
       " [0, 1],\n",
       " [0, 1],\n",
       " [0, 1],\n",
       " [0, 1],\n",
       " [0, 1],\n",
       " [0, 1],\n",
       " [0, 1],\n",
       " [0, 1],\n",
       " [0, 1],\n",
       " [0, 1],\n",
       " [0, 1],\n",
       " [0, 1],\n",
       " [0, 1],\n",
       " [0, 1],\n",
       " [0, 1],\n",
       " [0, 1],\n",
       " [0, 1],\n",
       " [0, 1],\n",
       " [0, 1],\n",
       " [0, 1],\n",
       " [0, 1],\n",
       " [0, 1],\n",
       " [0, 1],\n",
       " [0, 1],\n",
       " [0, 1],\n",
       " [0, 1],\n",
       " [0, 1],\n",
       " [0, 1],\n",
       " [0, 1]]"
      ]
     },
     "execution_count": 123,
     "metadata": {},
     "output_type": "execute_result"
    }
   ],
   "source": [
    "[[1, 0]] * len(blue_points) + [[0, 1]] * len(red_points)"
   ]
  },
  {
   "cell_type": "code",
   "execution_count": 69,
   "metadata": {
    "collapsed": true
   },
   "outputs": [],
   "source": [
    "a = np.array([[1,2,3,4]])"
   ]
  },
  {
   "cell_type": "code",
   "execution_count": 78,
   "metadata": {
    "collapsed": false
   },
   "outputs": [
    {
     "data": {
      "text/plain": [
       "array([[ 0.0320586 ,  0.08714432,  0.23688282,  0.64391426]])"
      ]
     },
     "execution_count": 78,
     "metadata": {},
     "output_type": "execute_result"
    }
   ],
   "source": [
    "np.exp(a)/np.sum(np.exp(a),axis=1)[:,None]"
   ]
  },
  {
   "cell_type": "code",
   "execution_count": null,
   "metadata": {
    "collapsed": true
   },
   "outputs": [],
   "source": []
  }
 ],
 "metadata": {
  "kernelspec": {
   "display_name": "Python 2",
   "language": "python",
   "name": "python2"
  },
  "language_info": {
   "codemirror_mode": {
    "name": "ipython",
    "version": 2
   },
   "file_extension": ".py",
   "mimetype": "text/x-python",
   "name": "python",
   "nbconvert_exporter": "python",
   "pygments_lexer": "ipython2",
   "version": "2.7.13"
  }
 },
 "nbformat": 4,
 "nbformat_minor": 2
}
